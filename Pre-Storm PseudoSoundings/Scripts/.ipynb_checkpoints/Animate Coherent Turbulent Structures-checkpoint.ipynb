{
 "cells": [
  {
   "cell_type": "code",
   "execution_count": 1,
   "id": "ce335755",
   "metadata": {},
   "outputs": [
    {
     "name": "stderr",
     "output_type": "stream",
     "text": [
      "Cannot import USCOUNTIES and USSTATES without Cartopy installed.\n"
     ]
    }
   ],
   "source": [
    "#Import Packages \n",
    "import xarray as xr\n",
    "import numpy as np \n",
    "import pandas as pd \n",
    "import matplotlib.pyplot as plt \n",
    "import os \n",
    "import metpy \n",
    "import metpy.calc as mpcalc\n",
    "from metpy.plots import SkewT\n",
    "from metpy.units import units \n",
    "from IPython.display import HTML, display \n",
    "import imageio\n",
    "from tqdm import tqdm\n",
    "from itertools import product\n",
    "import wrf \n",
    "import glob \n",
    "from scipy.interpolate import RegularGridInterpolator, interp1d\n",
    "from mpl_toolkits.mplot3d import Axes3D\n",
    "import seaborn as sns\n",
    "from pathlib import Path"
   ]
  },
  {
   "cell_type": "code",
   "execution_count": 2,
   "id": "7bb3a6a2",
   "metadata": {
    "scrolled": true
   },
   "outputs": [],
   "source": [
    "# Read in Simulation Data File Names\n",
    "data_path = '/storage/group/pmm116/default/pmm116/predictability_study-30sec-output/prestorm16/'\n",
    "file_paths = glob.glob(data_path + \"*00*.nc\")\n",
    "file_names = sorted([Path(path).name for path in file_paths if path.endswith(\".nc\")])"
   ]
  },
  {
   "cell_type": "code",
   "execution_count": 3,
   "id": "be8dcafb",
   "metadata": {},
   "outputs": [],
   "source": [
    "# Create Basic Global Variables\n",
    "\n",
    "# Load One of the Datasets\n",
    "sample_data = xr.open_dataset(data_path + file_names[0])\n",
    "\n",
    "# Grid Locations\n",
    "x_grid = sample_data['xf'].values\n",
    "y_grid = sample_data['yf'].values\n",
    "z_grid = sample_data['zf'].values\n",
    "\n",
    "# Scalar Value Locations\n",
    "x_data = sample_data['xh'].values\n",
    "y_data = sample_data['yh'].values\n",
    "z_data = sample_data['z'].values\n",
    "\n",
    "# Time Array\n",
    "time = np.linspace(0,(len(file_names)-1)*30, len(file_names), dtype='int')\n"
   ]
  },
  {
   "cell_type": "code",
   "execution_count": 8,
   "id": "8ad3fd0e",
   "metadata": {},
   "outputs": [
    {
     "name": "stderr",
     "output_type": "stream",
     "text": [
      "100%|██████████| 121/121 [01:50<00:00,  1.10it/s]\n",
      "100%|██████████| 120/120 [00:00<00:00, 171.91it/s]\n"
     ]
    }
   ],
   "source": [
    "# Animate Reflectivity and w-wind to make sure no storm is present\n",
    "\n",
    "# Path of GIFs\n",
    "path = '/storage/work/bsh5393//Masters Thesis/Pre-Storm PseudoSoundings/Figure Builder/'\n",
    "gifname = '/storage/work/bsh5393/Masters Thesis/Pre-Storm PseudoSoundings/GIFs/test_updraft.gif'\n",
    "\n",
    "# Loop that saves each figure\n",
    "for t in tqdm(np.arange(0, len(time), 1)):\n",
    "    \n",
    "    # image filename\n",
    "    image_filename = 'figure_%03d.png' % (t)\n",
    "    \n",
    "    # initialize figure\n",
    "    fig = plt.figure(figsize=(8,8))\n",
    "    \n",
    "    # plot reflectivity\n",
    "    updraft = plt.contourf(x_data, y_data, \n",
    "                        xr.open_dataset(data_path + file_names[t])['winterp'].isel(time = 0, nk=17),\n",
    "                        levels = np.arange(-7,8,1,dtype='int'), vmin=-7, vmax=7, cmap='bwr')\n",
    "    # colorbar\n",
    "    vcolorbar = fig.colorbar(updraft, label='m/s', orientation='vertical')\n",
    "    \n",
    "    # titles\n",
    "    plt.title(f'Vertical Wind @ z = 522 m. Time = {time[t]} s')\n",
    "    plt.xlabel('km')\n",
    "    plt.ylabel('km')\n",
    "    \n",
    "    # save figure\n",
    "    fig.savefig(path+image_filename)\n",
    "    \n",
    "    # clear figure\n",
    "    plt.close()\n",
    "    \n",
    "#Combine Above Images into GIF\n",
    "#These variables control the time step (interval) and the length of the pause at the end of the animation (end_interval)\n",
    "interval = 0.15\n",
    "end_interval = 1.0\n",
    "\n",
    "#Iterating through all of the files in path, and then sorting the filenames\n",
    "imagefiles = os.listdir(path)\n",
    "# imagefiles.remove('.ipynb_checkpoints')\n",
    "\n",
    "\n",
    "image_filenames = []\n",
    "\n",
    "for image_filename in imagefiles[:t]:\n",
    "    image_filenames.append(image_filename)\n",
    "image_filenames.sort()\n",
    "    \n",
    "#Opening each image file and saving it to a list\n",
    "images = []\n",
    "for image_filename in tqdm(image_filenames[:t]):\n",
    "    images.append(imageio.imread(path + image_filename))\n",
    "      \n",
    "#Generating an array containing the duration to display each frame\n",
    "durations = np.ones(len(images))*interval\n",
    "durations[-1] = end_interval\n",
    "\n",
    "#Generating the animation itself\n",
    "imageio.mimsave(gifname, images, duration = durations.tolist())"
   ]
  },
  {
   "cell_type": "code",
   "execution_count": null,
   "id": "04ef965a",
   "metadata": {},
   "outputs": [],
   "source": []
  }
 ],
 "metadata": {
  "kernelspec": {
   "display_name": "new",
   "language": "python",
   "name": "new"
  },
  "language_info": {
   "codemirror_mode": {
    "name": "ipython",
    "version": 3
   },
   "file_extension": ".py",
   "mimetype": "text/x-python",
   "name": "python",
   "nbconvert_exporter": "python",
   "pygments_lexer": "ipython3",
   "version": "3.6.8"
  }
 },
 "nbformat": 4,
 "nbformat_minor": 5
}
